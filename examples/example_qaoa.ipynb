{
 "cells": [
  {
   "cell_type": "code",
   "execution_count": 5,
   "metadata": {},
   "outputs": [],
   "source": [
    "import sys\n",
    "sys.path.append('../')\n",
    "\n",
    "import networkx as nx"
   ]
  },
  {
   "cell_type": "code",
   "execution_count": 10,
   "metadata": {},
   "outputs": [],
   "source": [
    "from modules.load_molecules import LoadMolecule\n",
    "from modules.molecular_graph import MolecularGraph\n",
    "from modules.conflict_graph import ConflictGraph\n",
    "from solve_qubo import SolveQUBO"
   ]
  },
  {
   "cell_type": "markdown",
   "metadata": {},
   "source": [
    "### Instantiate mol loader"
   ]
  },
  {
   "cell_type": "code",
   "execution_count": 3,
   "metadata": {},
   "outputs": [
    {
     "name": "stdout",
     "output_type": "stream",
     "text": [
      "77 molecules available in ..\\..\\Hijos%20de%20Rivera\\Datos\\terpenoids_clean\n"
     ]
    }
   ],
   "source": [
    "path_terpenoids = '..\\..\\Hijos%20de%20Rivera\\Datos\\\\terpenoids_clean'\n",
    "loader = LoadMolecule(path_terpenoids)"
   ]
  },
  {
   "cell_type": "markdown",
   "metadata": {},
   "source": [
    "You can now load all molecules listed in `loader.available_molecules`.\n",
    "\n",
    "For instance, let's load menthol."
   ]
  },
  {
   "cell_type": "code",
   "execution_count": 4,
   "metadata": {},
   "outputs": [
    {
     "data": {
      "image/png": "[encoded data removed]",
      "text/plain": [
       "<rdkit.Chem.rdchem.Mol at 0x23b67dc0740>"
      ]
     },
     "execution_count": 4,
     "metadata": {},
     "output_type": "execute_result"
    }
   ],
   "source": [
    "menthol = loader.load('menthol_bs_biblio_ob')\n",
    "menthol"
   ]
  },
  {
   "cell_type": "markdown",
   "metadata": {},
   "source": [
    "From this, we can directly create the corresponding molecular graph. To reduce its size and decrease the number of needed qubits, we will use the collapse rings approximation."
   ]
  },
  {
   "cell_type": "code",
   "execution_count": 7,
   "metadata": {},
   "outputs": [
    {
     "data": {
      "image/png": "[encoded data removed]",
      "text/plain": [
       "<Figure size 640x480 with 1 Axes>"
      ]
     },
     "metadata": {},
     "output_type": "display_data"
    }
   ],
   "source": [
    "collapse_rings = True\n",
    "menthol_graph = MolecularGraph(menthol,mol_name='menthol_bs_biblio_ob',collapse_rings=collapse_rings)\n",
    "nx.draw(menthol_graph.mol_graph,with_labels=True)"
   ]
  },
  {
   "cell_type": "markdown",
   "metadata": {},
   "source": [
    "Let's pick another molecule, generate its molecular graph and finally build the conflict graph associated with the 2 molecules"
   ]
  },
  {
   "cell_type": "code",
   "execution_count": 8,
   "metadata": {},
   "outputs": [],
   "source": [
    "mol = loader.load('CID_335_o-cresol')\n",
    "mol_graph = MolecularGraph(mol,mol_name='CID_335_o-cresol',collapse_rings=collapse_rings)"
   ]
  },
  {
   "cell_type": "code",
   "execution_count": 9,
   "metadata": {},
   "outputs": [],
   "source": [
    "conflict_g = ConflictGraph(menthol_graph,mol_graph)"
   ]
  },
  {
   "cell_type": "markdown",
   "metadata": {},
   "source": [
    "With this we have everything we need to run the comparison between the two molecules."
   ]
  },
  {
   "cell_type": "code",
   "execution_count": 11,
   "metadata": {},
   "outputs": [],
   "source": [
    "n_layers = 2\n",
    "factor = 2\n",
    "solver_type = 'GateQPU'\n",
    "solver = SolveQUBO(conflict_g=conflict_g,solver_type=solver_type,factor=float(factor),\n",
    "                                n_layers=n_layers)"
   ]
  },
  {
   "cell_type": "markdown",
   "metadata": {},
   "source": [
    "You may now visualize the circuit"
   ]
  },
  {
   "cell_type": "code",
   "execution_count": 14,
   "metadata": {},
   "outputs": [
    {
     "data": {
      "text/html": [
       "<pre style=\"word-wrap: normal;white-space: pre;background: #fff0;line-height: 1.1;font-family: &quot;Courier New&quot;,Courier,monospace\">        ┌───┐       ┌──────────────┐               ┌──────────────┐       »\n",
       "   q_0: ┤ H ├───────┤ Rz(1.0*θ[0]) ├───────────────┤ Rx(2.0*θ[2]) ├───────»\n",
       "        ├───┤┌──────┴──────────────┴──────┐┌───────┴──────────────┴──────┐»\n",
       "   q_1: ┤ H ├┤ Rz(0.999999997799135*θ[0]) ├┤ Rz(-0.999999997799135*θ[0]) ├»\n",
       "        ├───┤├────────────────────────────┤├─────────────────────────────┤»\n",
       "   q_2: ┤ H ├┤ Rz(0.999999997799135*θ[0]) ├┤ Rz(-0.999999997799135*θ[0]) ├»\n",
       "        ├───┤├────────────────────────────┤├─────────────────────────────┤»\n",
       "   q_3: ┤ H ├┤ Rz(0.999999997799135*θ[0]) ├┤ Rz(-0.999999997799135*θ[0]) ├»\n",
       "        ├───┤├────────────────────────────┤├─────────────────────────────┤»\n",
       "   q_4: ┤ H ├┤ Rz(0.707289667434464*θ[0]) ├┤ Rz(-0.707289667434464*θ[0]) ├»\n",
       "        └───┘└────────────────────────────┘└─────────────────────────────┘»\n",
       "meas: 5/══════════════════════════════════════════════════════════════════»\n",
       "                                                                          »\n",
       "«               ┌──────────────┐              ┌──────────────┐       »\n",
       "«   q_0: ───────┤ Rz(1.0*θ[1]) ├──────────────┤ Rx(2.0*θ[7]) ├───────»\n",
       "«               └──────────────┘      ┌───────┴──────────────┴──────┐»\n",
       "«   q_1: ─■───────────────────────────┤ Rz(-0.999999997799135*θ[0]) ├»\n",
       "«         │ZZ(0.999999997799135*θ[0]) ├─────────────────────────────┤»\n",
       "«   q_2: ─■───────────────────────────┤ Rz(-0.999999997799135*θ[0]) ├»\n",
       "«                                     └─────────────────────────────┘»\n",
       "«   q_3: ────────────────────────────────────────────────────────────»\n",
       "«                                                                    »\n",
       "«   q_4: ────────────────────────────────────────────────────────────»\n",
       "«                                                                    »\n",
       "«meas: 5/════════════════════════════════════════════════════════════»\n",
       "«                                                                    »\n",
       "«                                                                    »\n",
       "«   q_0: ────────────────────────────────────────────────────────────»\n",
       "«                                     ┌─────────────────────────────┐»\n",
       "«   q_1: ─■───────────────────────────┤ Rz(-0.707289667434464*θ[0]) ├»\n",
       "«         │                           └─────────────────────────────┘»\n",
       "«   q_2: ─┼──────────────────────────────────────────────────────────»\n",
       "«         │ZZ(0.999999997799135*θ[0]) ┌─────────────────────────────┐»\n",
       "«   q_3: ─■───────────────────────────┤ Rz(-0.999999997799135*θ[0]) ├»\n",
       "«                                     └─────────────────────────────┘»\n",
       "«   q_4: ────────────────────────────────────────────────────────────»\n",
       "«                                                                    »\n",
       "«meas: 5/════════════════════════════════════════════════════════════»\n",
       "«                                                                    »\n",
       "«                                                                    »\n",
       "«   q_0: ────────────────────────────────────────────────────────────»\n",
       "«                                             ┌──────────────┐       »\n",
       "«   q_1: ─■───────────────────────────────────┤ Rx(2.0*θ[3]) ├───────»\n",
       "«         │                                   └──────────────┘       »\n",
       "«   q_2: ─┼─────────────────────────────■────────────────────────────»\n",
       "«         │                             │ZZ(0.999999997799135*θ[0])  »\n",
       "«   q_3: ─┼─────────────────────────────■────────────────────────────»\n",
       "«         │ZZ(0.707289667434464*θ[0]) ┌─────────────────────────────┐»\n",
       "«   q_4: ─■───────────────────────────┤ Rz(-0.707289667434464*θ[0]) ├»\n",
       "«                                     └─────────────────────────────┘»\n",
       "«meas: 5/════════════════════════════════════════════════════════════»\n",
       "«                                                                    »\n",
       "«                                                                      »\n",
       "«   q_0: ──────────────────────────────────────────────────────────────»\n",
       "«         ┌────────────────────────────┐┌─────────────────────────────┐»\n",
       "«   q_1: ─┤ Rz(0.999999997799135*θ[1]) ├┤ Rz(-0.999999997799135*θ[1]) ├»\n",
       "«        ┌┴────────────────────────────┤└─────────────────────────────┘»\n",
       "«   q_2: ┤ Rz(-0.707289667434464*θ[0]) ├──■────────────────────────────»\n",
       "«        ├─────────────────────────────┤  │                            »\n",
       "«   q_3: ┤ Rz(-0.707289667434464*θ[0]) ├──┼────────────────────────────»\n",
       "«        └─────────────────────────────┘  │ZZ(0.707289667434464*θ[0])  »\n",
       "«   q_4: ─────────────────────────────────■────────────────────────────»\n",
       "«                                                                      »\n",
       "«meas: 5/══════════════════════════════════════════════════════════════»\n",
       "«                                                                      »\n",
       "«                                                                     »\n",
       "«   q_0: ─────────────────────────────────────────────────────────────»\n",
       "«                                                                     »\n",
       "«   q_1: ─────────────────────────────────────────────────────────────»\n",
       "«                ┌──────────────┐       ┌────────────────────────────┐»\n",
       "«   q_2: ────────┤ Rx(2.0*θ[4]) ├───────┤ Rz(0.999999997799135*θ[1]) ├»\n",
       "«                └──────────────┘       └────────────────────────────┘»\n",
       "«   q_3: ────────────────────────────────■────────────────────────────»\n",
       "«        ┌─────────────────────────────┐ │ZZ(0.707289667434464*θ[0])  »\n",
       "«   q_4: ┤ Rz(-0.707289667434464*θ[0]) ├─■────────────────────────────»\n",
       "«        └─────────────────────────────┘                              »\n",
       "«meas: 5/═════════════════════════════════════════════════════════════»\n",
       "«                                                                     »\n",
       "«                                                                     »\n",
       "«   q_0: ─────────────────────────────────────────────────────────────»\n",
       "«                                                                     »\n",
       "«   q_1: ────────────────────────────────■────────────────────────────»\n",
       "«        ┌─────────────────────────────┐ │ZZ(0.999999997799135*θ[1])  »\n",
       "«   q_2: ┤ Rz(-0.999999997799135*θ[1]) ├─■────────────────────────────»\n",
       "«        └───────┬──────────────┬──────┘┌────────────────────────────┐»\n",
       "«   q_3: ────────┤ Rx(2.0*θ[5]) ├───────┤ Rz(0.999999997799135*θ[1]) ├»\n",
       "«                ├──────────────┤       ├────────────────────────────┤»\n",
       "«   q_4: ────────┤ Rx(2.0*θ[6]) ├───────┤ Rz(0.707289667434464*θ[1]) ├»\n",
       "«                └──────────────┘       └────────────────────────────┘»\n",
       "«meas: 5/═════════════════════════════════════════════════════════════»\n",
       "«                                                                     »\n",
       "«                                                                    »\n",
       "«   q_0: ────────────────────────────────────────────────────────────»\n",
       "«        ┌─────────────────────────────┐                             »\n",
       "«   q_1: ┤ Rz(-0.999999997799135*θ[1]) ├─■───────────────────────────»\n",
       "«        ├─────────────────────────────┤ │                           »\n",
       "«   q_2: ┤ Rz(-0.999999997799135*θ[1]) ├─┼───────────────────────────»\n",
       "«        ├─────────────────────────────┤ │ZZ(0.999999997799135*θ[1]) »\n",
       "«   q_3: ┤ Rz(-0.999999997799135*θ[1]) ├─■───────────────────────────»\n",
       "«        ├─────────────────────────────┤                             »\n",
       "«   q_4: ┤ Rz(-0.707289667434464*θ[1]) ├─────────────────────────────»\n",
       "«        └─────────────────────────────┘                             »\n",
       "«meas: 5/════════════════════════════════════════════════════════════»\n",
       "«                                                                    »\n",
       "«                                                                    »\n",
       "«   q_0: ────────────────────────────────────────────────────────────»\n",
       "«        ┌─────────────────────────────┐                             »\n",
       "«   q_1: ┤ Rz(-0.707289667434464*θ[1]) ├─■───────────────────────────»\n",
       "«        └─────────────────────────────┘ │                           »\n",
       "«   q_2: ────────────────────────────────┼───────────────────────────»\n",
       "«        ┌─────────────────────────────┐ │                           »\n",
       "«   q_3: ┤ Rz(-0.999999997799135*θ[1]) ├─┼───────────────────────────»\n",
       "«        └─────────────────────────────┘ │ZZ(0.707289667434464*θ[1]) »\n",
       "«   q_4: ────────────────────────────────■───────────────────────────»\n",
       "«                                                                    »\n",
       "«meas: 5/════════════════════════════════════════════════════════════»\n",
       "«                                                                    »\n",
       "«                                                                      »\n",
       "«   q_0: ──────────────────────────────────────────────────────────────»\n",
       "«                ┌──────────────┐                                      »\n",
       "«   q_1: ────────┤ Rx(2.0*θ[8]) ├──────────────────────────────────────»\n",
       "«                └──────────────┘       ┌─────────────────────────────┐»\n",
       "«   q_2: ──■────────────────────────────┤ Rz(-0.707289667434464*θ[1]) ├»\n",
       "«          │ZZ(0.999999997799135*θ[1])  ├─────────────────────────────┤»\n",
       "«   q_3: ──■────────────────────────────┤ Rz(-0.707289667434464*θ[1]) ├»\n",
       "«        ┌─────────────────────────────┐└─────────────────────────────┘»\n",
       "«   q_4: ┤ Rz(-0.707289667434464*θ[1]) ├───────────────────────────────»\n",
       "«        └─────────────────────────────┘                               »\n",
       "«meas: 5/══════════════════════════════════════════════════════════════»\n",
       "«                                                                      »\n",
       "«                                                                    »\n",
       "«   q_0: ────────────────────────────────────────────────────────────»\n",
       "«                                                                    »\n",
       "«   q_1: ────────────────────────────────────────────────────────────»\n",
       "«                                             ┌──────────────┐       »\n",
       "«   q_2: ─■───────────────────────────────────┤ Rx(2.0*θ[9]) ├───────»\n",
       "«         │                                   └──────────────┘       »\n",
       "«   q_3: ─┼──────────────────────────────────────────────────────────»\n",
       "«         │ZZ(0.707289667434464*θ[1]) ┌─────────────────────────────┐»\n",
       "«   q_4: ─■───────────────────────────┤ Rz(-0.707289667434464*θ[1]) ├»\n",
       "«                                     └─────────────────────────────┘»\n",
       "«meas: 5/════════════════════════════════════════════════════════════»\n",
       "«                                                                    »\n",
       "«                                                       ░ ┌─┐            \n",
       "«   q_0: ───────────────────────────────────────────────░─┤M├────────────\n",
       "«                                                       ░ └╥┘┌─┐         \n",
       "«   q_1: ───────────────────────────────────────────────░──╫─┤M├─────────\n",
       "«                                                       ░  ║ └╥┘┌─┐      \n",
       "«   q_2: ───────────────────────────────────────────────░──╫──╫─┤M├──────\n",
       "«                                     ┌───────────────┐ ░  ║  ║ └╥┘┌─┐   \n",
       "«   q_3: ─■───────────────────────────┤ Rx(2.0*θ[10]) ├─░──╫──╫──╫─┤M├───\n",
       "«         │ZZ(0.707289667434464*θ[1]) ├───────────────┤ ░  ║  ║  ║ └╥┘┌─┐\n",
       "«   q_4: ─■───────────────────────────┤ Rx(2.0*θ[11]) ├─░──╫──╫──╫──╫─┤M├\n",
       "«                                     └───────────────┘ ░  ║  ║  ║  ║ └╥┘\n",
       "«meas: 5/══════════════════════════════════════════════════╩══╩══╩══╩══╩═\n",
       "«                                                          0  1  2  3  4 </pre>"
      ],
      "text/plain": [
       "        ┌───┐       ┌──────────────┐               ┌──────────────┐       »\n",
       "   q_0: ┤ H ├───────┤ Rz(1.0*θ[0]) ├───────────────┤ Rx(2.0*θ[2]) ├───────»\n",
       "        ├───┤┌──────┴──────────────┴──────┐┌───────┴──────────────┴──────┐»\n",
       "   q_1: ┤ H ├┤ Rz(0.999999997799135*θ[0]) ├┤ Rz(-0.999999997799135*θ[0]) ├»\n",
       "        ├───┤├────────────────────────────┤├─────────────────────────────┤»\n",
       "   q_2: ┤ H ├┤ Rz(0.999999997799135*θ[0]) ├┤ Rz(-0.999999997799135*θ[0]) ├»\n",
       "        ├───┤├────────────────────────────┤├─────────────────────────────┤»\n",
       "   q_3: ┤ H ├┤ Rz(0.999999997799135*θ[0]) ├┤ Rz(-0.999999997799135*θ[0]) ├»\n",
       "        ├───┤├────────────────────────────┤├─────────────────────────────┤»\n",
       "   q_4: ┤ H ├┤ Rz(0.707289667434464*θ[0]) ├┤ Rz(-0.707289667434464*θ[0]) ├»\n",
       "        └───┘└────────────────────────────┘└─────────────────────────────┘»\n",
       "meas: 5/══════════════════════════════════════════════════════════════════»\n",
       "                                                                          »\n",
       "«               ┌──────────────┐              ┌──────────────┐       »\n",
       "«   q_0: ───────┤ Rz(1.0*θ[1]) ├──────────────┤ Rx(2.0*θ[7]) ├───────»\n",
       "«               └──────────────┘      ┌───────┴──────────────┴──────┐»\n",
       "«   q_1: ─■───────────────────────────┤ Rz(-0.999999997799135*θ[0]) ├»\n",
       "«         │ZZ(0.999999997799135*θ[0]) ├─────────────────────────────┤»\n",
       "«   q_2: ─■───────────────────────────┤ Rz(-0.999999997799135*θ[0]) ├»\n",
       "«                                     └─────────────────────────────┘»\n",
       "«   q_3: ────────────────────────────────────────────────────────────»\n",
       "«                                                                    »\n",
       "«   q_4: ────────────────────────────────────────────────────────────»\n",
       "«                                                                    »\n",
       "«meas: 5/════════════════════════════════════════════════════════════»\n",
       "«                                                                    »\n",
       "«                                                                    »\n",
       "«   q_0: ────────────────────────────────────────────────────────────»\n",
       "«                                     ┌─────────────────────────────┐»\n",
       "«   q_1: ─■───────────────────────────┤ Rz(-0.707289667434464*θ[0]) ├»\n",
       "«         │                           └─────────────────────────────┘»\n",
       "«   q_2: ─┼──────────────────────────────────────────────────────────»\n",
       "«         │ZZ(0.999999997799135*θ[0]) ┌─────────────────────────────┐»\n",
       "«   q_3: ─■───────────────────────────┤ Rz(-0.999999997799135*θ[0]) ├»\n",
       "«                                     └─────────────────────────────┘»\n",
       "«   q_4: ────────────────────────────────────────────────────────────»\n",
       "«                                                                    »\n",
       "«meas: 5/════════════════════════════════════════════════════════════»\n",
       "«                                                                    »\n",
       "«                                                                    »\n",
       "«   q_0: ────────────────────────────────────────────────────────────»\n",
       "«                                             ┌──────────────┐       »\n",
       "«   q_1: ─■───────────────────────────────────┤ Rx(2.0*θ[3]) ├───────»\n",
       "«         │                                   └──────────────┘       »\n",
       "«   q_2: ─┼─────────────────────────────■────────────────────────────»\n",
       "«         │                             │ZZ(0.999999997799135*θ[0])  »\n",
       "«   q_3: ─┼─────────────────────────────■────────────────────────────»\n",
       "«         │ZZ(0.707289667434464*θ[0]) ┌─────────────────────────────┐»\n",
       "«   q_4: ─■───────────────────────────┤ Rz(-0.707289667434464*θ[0]) ├»\n",
       "«                                     └─────────────────────────────┘»\n",
       "«meas: 5/════════════════════════════════════════════════════════════»\n",
       "«                                                                    »\n",
       "«                                                                      »\n",
       "«   q_0: ──────────────────────────────────────────────────────────────»\n",
       "«         ┌────────────────────────────┐┌─────────────────────────────┐»\n",
       "«   q_1: ─┤ Rz(0.999999997799135*θ[1]) ├┤ Rz(-0.999999997799135*θ[1]) ├»\n",
       "«        ┌┴────────────────────────────┤└─────────────────────────────┘»\n",
       "«   q_2: ┤ Rz(-0.707289667434464*θ[0]) ├──■────────────────────────────»\n",
       "«        ├─────────────────────────────┤  │                            »\n",
       "«   q_3: ┤ Rz(-0.707289667434464*θ[0]) ├──┼────────────────────────────»\n",
       "«        └─────────────────────────────┘  │ZZ(0.707289667434464*θ[0])  »\n",
       "«   q_4: ─────────────────────────────────■────────────────────────────»\n",
       "«                                                                      »\n",
       "«meas: 5/══════════════════════════════════════════════════════════════»\n",
       "«                                                                      »\n",
       "«                                                                     »\n",
       "«   q_0: ─────────────────────────────────────────────────────────────»\n",
       "«                                                                     »\n",
       "«   q_1: ─────────────────────────────────────────────────────────────»\n",
       "«                ┌──────────────┐       ┌────────────────────────────┐»\n",
       "«   q_2: ────────┤ Rx(2.0*θ[4]) ├───────┤ Rz(0.999999997799135*θ[1]) ├»\n",
       "«                └──────────────┘       └────────────────────────────┘»\n",
       "«   q_3: ────────────────────────────────■────────────────────────────»\n",
       "«        ┌─────────────────────────────┐ │ZZ(0.707289667434464*θ[0])  »\n",
       "«   q_4: ┤ Rz(-0.707289667434464*θ[0]) ├─■────────────────────────────»\n",
       "«        └─────────────────────────────┘                              »\n",
       "«meas: 5/═════════════════════════════════════════════════════════════»\n",
       "«                                                                     »\n",
       "«                                                                     »\n",
       "«   q_0: ─────────────────────────────────────────────────────────────»\n",
       "«                                                                     »\n",
       "«   q_1: ────────────────────────────────■────────────────────────────»\n",
       "«        ┌─────────────────────────────┐ │ZZ(0.999999997799135*θ[1])  »\n",
       "«   q_2: ┤ Rz(-0.999999997799135*θ[1]) ├─■────────────────────────────»\n",
       "«        └───────┬──────────────┬──────┘┌────────────────────────────┐»\n",
       "«   q_3: ────────┤ Rx(2.0*θ[5]) ├───────┤ Rz(0.999999997799135*θ[1]) ├»\n",
       "«                ├──────────────┤       ├────────────────────────────┤»\n",
       "«   q_4: ────────┤ Rx(2.0*θ[6]) ├───────┤ Rz(0.707289667434464*θ[1]) ├»\n",
       "«                └──────────────┘       └────────────────────────────┘»\n",
       "«meas: 5/═════════════════════════════════════════════════════════════»\n",
       "«                                                                     »\n",
       "«                                                                    »\n",
       "«   q_0: ────────────────────────────────────────────────────────────»\n",
       "«        ┌─────────────────────────────┐                             »\n",
       "«   q_1: ┤ Rz(-0.999999997799135*θ[1]) ├─■───────────────────────────»\n",
       "«        ├─────────────────────────────┤ │                           »\n",
       "«   q_2: ┤ Rz(-0.999999997799135*θ[1]) ├─┼───────────────────────────»\n",
       "«        ├─────────────────────────────┤ │ZZ(0.999999997799135*θ[1]) »\n",
       "«   q_3: ┤ Rz(-0.999999997799135*θ[1]) ├─■───────────────────────────»\n",
       "«        ├─────────────────────────────┤                             »\n",
       "«   q_4: ┤ Rz(-0.707289667434464*θ[1]) ├─────────────────────────────»\n",
       "«        └─────────────────────────────┘                             »\n",
       "«meas: 5/════════════════════════════════════════════════════════════»\n",
       "«                                                                    »\n",
       "«                                                                    »\n",
       "«   q_0: ────────────────────────────────────────────────────────────»\n",
       "«        ┌─────────────────────────────┐                             »\n",
       "«   q_1: ┤ Rz(-0.707289667434464*θ[1]) ├─■───────────────────────────»\n",
       "«        └─────────────────────────────┘ │                           »\n",
       "«   q_2: ────────────────────────────────┼───────────────────────────»\n",
       "«        ┌─────────────────────────────┐ │                           »\n",
       "«   q_3: ┤ Rz(-0.999999997799135*θ[1]) ├─┼───────────────────────────»\n",
       "«        └─────────────────────────────┘ │ZZ(0.707289667434464*θ[1]) »\n",
       "«   q_4: ────────────────────────────────■───────────────────────────»\n",
       "«                                                                    »\n",
       "«meas: 5/════════════════════════════════════════════════════════════»\n",
       "«                                                                    »\n",
       "«                                                                      »\n",
       "«   q_0: ──────────────────────────────────────────────────────────────»\n",
       "«                ┌──────────────┐                                      »\n",
       "«   q_1: ────────┤ Rx(2.0*θ[8]) ├──────────────────────────────────────»\n",
       "«                └──────────────┘       ┌─────────────────────────────┐»\n",
       "«   q_2: ──■────────────────────────────┤ Rz(-0.707289667434464*θ[1]) ├»\n",
       "«          │ZZ(0.999999997799135*θ[1])  ├─────────────────────────────┤»\n",
       "«   q_3: ──■────────────────────────────┤ Rz(-0.707289667434464*θ[1]) ├»\n",
       "«        ┌─────────────────────────────┐└─────────────────────────────┘»\n",
       "«   q_4: ┤ Rz(-0.707289667434464*θ[1]) ├───────────────────────────────»\n",
       "«        └─────────────────────────────┘                               »\n",
       "«meas: 5/══════════════════════════════════════════════════════════════»\n",
       "«                                                                      »\n",
       "«                                                                    »\n",
       "«   q_0: ────────────────────────────────────────────────────────────»\n",
       "«                                                                    »\n",
       "«   q_1: ────────────────────────────────────────────────────────────»\n",
       "«                                             ┌──────────────┐       »\n",
       "«   q_2: ─■───────────────────────────────────┤ Rx(2.0*θ[9]) ├───────»\n",
       "«         │                                   └──────────────┘       »\n",
       "«   q_3: ─┼──────────────────────────────────────────────────────────»\n",
       "«         │ZZ(0.707289667434464*θ[1]) ┌─────────────────────────────┐»\n",
       "«   q_4: ─■───────────────────────────┤ Rz(-0.707289667434464*θ[1]) ├»\n",
       "«                                     └─────────────────────────────┘»\n",
       "«meas: 5/════════════════════════════════════════════════════════════»\n",
       "«                                                                    »\n",
       "«                                                       ░ ┌─┐            \n",
       "«   q_0: ───────────────────────────────────────────────░─┤M├────────────\n",
       "«                                                       ░ └╥┘┌─┐         \n",
       "«   q_1: ───────────────────────────────────────────────░──╫─┤M├─────────\n",
       "«                                                       ░  ║ └╥┘┌─┐      \n",
       "«   q_2: ───────────────────────────────────────────────░──╫──╫─┤M├──────\n",
       "«                                     ┌───────────────┐ ░  ║  ║ └╥┘┌─┐   \n",
       "«   q_3: ─■───────────────────────────┤ Rx(2.0*θ[10]) ├─░──╫──╫──╫─┤M├───\n",
       "«         │ZZ(0.707289667434464*θ[1]) ├───────────────┤ ░  ║  ║  ║ └╥┘┌─┐\n",
       "«   q_4: ─■───────────────────────────┤ Rx(2.0*θ[11]) ├─░──╫──╫──╫──╫─┤M├\n",
       "«                                     └───────────────┘ ░  ║  ║  ║  ║ └╥┘\n",
       "«meas: 5/══════════════════════════════════════════════════╩══╩══╩══╩══╩═\n",
       "«                                                          0  1  2  3  4 "
      ]
     },
     "execution_count": 14,
     "metadata": {},
     "output_type": "execute_result"
    }
   ],
   "source": [
    "solver.qaoa.pqc.draw()"
   ]
  },
  {
   "cell_type": "code",
   "execution_count": 15,
   "metadata": {},
   "outputs": [],
   "source": [
    "from qiskit_aer import AerSimulator"
   ]
  },
  {
   "cell_type": "code",
   "execution_count": 16,
   "metadata": {},
   "outputs": [
    {
     "name": "stdout",
     "output_type": "stream",
     "text": [
      "differential_evolution step 1: f(x)= -6.974154195320241\n",
      "differential_evolution step 2: f(x)= -6.974154195320241\n"
     ]
    }
   ],
   "source": [
    "backend = AerSimulator()\n",
    "n_shots = 10000\n",
    "backend.shots = n_shots\n",
    "\n",
    "tol_DE = 0.0001\n",
    "maxiter_DE = 2\n",
    "        \n",
    "res_DE, solution, counts, best_individual = solver.solve_qubo(backend=backend, \n",
    "                                                              n_shots = n_shots, \n",
    "                                                              tol = tol_DE, maxiter = maxiter_DE)"
   ]
  },
  {
   "cell_type": "markdown",
   "metadata": {},
   "source": [
    "## Running the full comparison\n",
    "With the functions provided in `main.py`, you can compare easily all molecules present in the database with menthol, and get time metrics."
   ]
  },
  {
   "cell_type": "code",
   "execution_count": null,
   "metadata": {},
   "outputs": [],
   "source": []
  }
 ],
 "metadata": {
  "kernelspec": {
   "display_name": "Python 3",
   "language": "python",
   "name": "python3"
  },
  "language_info": {
   "codemirror_mode": {
    "name": "ipython",
    "version": 3
   },
   "file_extension": ".py",
   "mimetype": "text/x-python",
   "name": "python",
   "nbconvert_exporter": "python",
   "pygments_lexer": "ipython3",
   "version": "3.10.0"
  }
 },
 "nbformat": 4,
 "nbformat_minor": 2
}
